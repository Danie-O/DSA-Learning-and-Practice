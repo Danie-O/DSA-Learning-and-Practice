{
 "cells": [
  {
   "attachments": {},
   "cell_type": "markdown",
   "metadata": {},
   "source": [
    "#### LINEAR SEARCH FOR ORDERED ARRAYS"
   ]
  },
  {
   "cell_type": "code",
   "execution_count": 31,
   "metadata": {},
   "outputs": [],
   "source": [
    "def ordered_linearsearch(arr, target):\n",
    "\n",
    "    for i in range(len(arr)):\n",
    "        #if value is found, return the index at which the value is found\n",
    "        if arr[i] == target:\n",
    "            return i\n",
    "\n",
    "        #once we reach an element greater than the target value, we know that the value is not in the array\n",
    "        #therefore, we end the search\n",
    "        elif arr[i] > target:\n",
    "            return \"element not found\"\n",
    "        \n",
    "\n",
    "array1 = [2, 4, 6, 9, 43, 50, 68, 90]\n",
    "\n"
   ]
  },
  {
   "cell_type": "code",
   "execution_count": 32,
   "metadata": {},
   "outputs": [
    {
     "name": "stdout",
     "output_type": "stream",
     "text": [
      "0\n",
      "element not found\n",
      "6\n"
     ]
    }
   ],
   "source": [
    "print(ordered_linearsearch(array1, 2))\n",
    "print(ordered_linearsearch(array1, 34))\n",
    "print(ordered_linearsearch(array1, 68))\n"
   ]
  }
 ],
 "metadata": {
  "kernelspec": {
   "display_name": "base",
   "language": "python",
   "name": "python3"
  },
  "language_info": {
   "codemirror_mode": {
    "name": "ipython",
    "version": 3
   },
   "file_extension": ".py",
   "mimetype": "text/x-python",
   "name": "python",
   "nbconvert_exporter": "python",
   "pygments_lexer": "ipython3",
   "version": "3.9.12"
  },
  "orig_nbformat": 4,
  "vscode": {
   "interpreter": {
    "hash": "88238fa9ce10266f0c8852a7c717f2c00aac0086428e92c35404220b3c041c57"
   }
  }
 },
 "nbformat": 4,
 "nbformat_minor": 2
}
