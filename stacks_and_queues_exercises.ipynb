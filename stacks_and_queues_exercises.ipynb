{
 "cells": [
  {
   "attachments": {},
   "cell_type": "markdown",
   "metadata": {},
   "source": [
    "### *Q1*\n",
    "If you were writing software for a call center that places callers on hold and then assigns them to “the next available representative,” would you use a stack or a queue?\n",
    "##### ANS: QUEUE"
   ]
  },
  {
   "attachments": {},
   "cell_type": "markdown",
   "metadata": {},
   "source": [
    "### *Q2*\n",
    "\n",
    "If you pushed numbers onto a stack in the following order: 1, 2, 3, 4, 5, 6, and then popped two items, which number would you be able to read from the stack?\n",
    "\n",
    "##### ANS: 4"
   ]
  },
  {
   "attachments": {},
   "cell_type": "markdown",
   "metadata": {},
   "source": [
    "### *Q3*\n",
    "\n",
    "If you pushed numbers onto a QUEUE in the following order: 1, 2, 3, 4, 5, 6, and then popped two items, which number would you be able to read from the QUEUE?\n",
    "\n",
    "##### ANS: 3"
   ]
  },
  {
   "attachments": {},
   "cell_type": "markdown",
   "metadata": {},
   "source": [
    "### *Q4*\n",
    "\n",
    "Write a function that uses a stack to reverse a string. (For example, \"abcde\" would become \"edcba\".) You can work with our earlier implementation of the Stack class."
   ]
  },
  {
   "cell_type": "code",
   "execution_count": 8,
   "metadata": {},
   "outputs": [],
   "source": [
    "#IMPLEMENTATION OF A STACK\n",
    "\n",
    "class Stack():\n",
    "    def __init__(self):\n",
    "        self.data = []\n",
    "\n",
    "    def push(self, element):\n",
    "        self.data.append(element)\n",
    "        \n",
    "\n",
    "    def pop(self):\n",
    "        if not self.is_empty():\n",
    "            return self.data.pop()\n",
    "        \n",
    "\n",
    "    def peek(self):\n",
    "        if not self.is_empty():\n",
    "            return self.data[-1]\n",
    "        \n",
    "    \n",
    "    def is_empty(self):\n",
    "        return len(self.data) == 0"
   ]
  },
  {
   "cell_type": "code",
   "execution_count": 11,
   "metadata": {},
   "outputs": [
    {
     "name": "stdout",
     "output_type": "stream",
     "text": [
      "edcba\n",
      "!dlroW olleH\n"
     ]
    }
   ],
   "source": [
    "# IMPLEMENTATION OF REVERSE STRING FUNCTION\n",
    "\n",
    "def reverse_string(string):\n",
    "    input_stack = Stack()\n",
    "    for char in string:\n",
    "        input_stack.push(char)\n",
    "\n",
    "    reversed_string = \"\"\n",
    "    while not input_stack.is_empty():\n",
    "        reversed_string += input_stack.pop()\n",
    "\n",
    "    return reversed_string\n",
    "\n",
    "\n",
    "print(reverse_string(\"abcde\"))\n",
    "print(reverse_string(\"Hello World!\"))\n"
   ]
  }
 ],
 "metadata": {
  "kernelspec": {
   "display_name": "base",
   "language": "python",
   "name": "python3"
  },
  "language_info": {
   "codemirror_mode": {
    "name": "ipython",
    "version": 3
   },
   "file_extension": ".py",
   "mimetype": "text/x-python",
   "name": "python",
   "nbconvert_exporter": "python",
   "pygments_lexer": "ipython3",
   "version": "3.9.12"
  },
  "orig_nbformat": 4,
  "vscode": {
   "interpreter": {
    "hash": "88238fa9ce10266f0c8852a7c717f2c00aac0086428e92c35404220b3c041c57"
   }
  }
 },
 "nbformat": 4,
 "nbformat_minor": 2
}
