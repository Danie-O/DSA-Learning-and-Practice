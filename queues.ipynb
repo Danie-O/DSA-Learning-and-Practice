{
 "cells": [
  {
   "attachments": {},
   "cell_type": "markdown",
   "metadata": {},
   "source": [
    "### QUEUES"
   ]
  },
  {
   "cell_type": "code",
   "execution_count": 7,
   "metadata": {},
   "outputs": [],
   "source": [
    "class Queue():\n",
    "    def __init__(self) -> None:\n",
    "        self.queue = []\n",
    "\n",
    "    #3 basic operations of a queue: enqueue, dequeue and read\n",
    "\n",
    "    def enqueue(self, item):\n",
    "        #append item to the end of the queue\n",
    "        self.queue.append(item)\n",
    "        \n",
    "\n",
    "    def dequeue(self):\n",
    "        #remove and return first item at the front of the queue\n",
    "        return self.queue.pop(0)\n",
    "\n",
    "    def read(self):\n",
    "        #reading involves retrieving the item at the front of the queue, without removing it from the queue\n",
    "        return self.queue[0]\n",
    "\n",
    "    def is_empty(self):\n",
    "        return len(self.queue) == 0"
   ]
  },
  {
   "cell_type": "code",
   "execution_count": 9,
   "metadata": {},
   "outputs": [
    {
     "name": "stdout",
     "output_type": "stream",
     "text": [
      "First document\n",
      "Second document\n",
      "Third document\n"
     ]
    }
   ],
   "source": [
    "# Implementation of a queue-based interface for a printer that can accept printing jobs from various computers across a network. This printer should print each document in the order in which they were received.\n",
    "# Below is an implementation using the Queue class above\n",
    "\n",
    "class PrintManager():\n",
    "    def __init__(self) -> None:\n",
    "        self.printer_queue = Queue()\n",
    "\n",
    "    def queue_document(self, document):\n",
    "        #this method adds a new document to the print job queue\n",
    "        self.printer_queue.enqueue(document)\n",
    "\n",
    "    def run(self):\n",
    "        #this method runs the printer, such that we run the printer for each document in the print queue\n",
    "        while not self.printer_queue.is_empty():\n",
    "            next_document = self.printer_queue.dequeue()\n",
    "            self.print_document(next_document)\n",
    "\n",
    "    def print_document(self, document):\n",
    "        #code to run the actual printer\n",
    "        #we print to the terminal for demo purposes\n",
    "        print(document)\n",
    "\n",
    "\n",
    "#trying out the PrintManager\n",
    "printer = PrintManager()\n",
    "printer.queue_document(\"First document\")\n",
    "printer.queue_document(\"Second document\")\n",
    "printer.queue_document(\"Third document\")\n",
    "printer.run()"
   ]
  }
 ],
 "metadata": {
  "kernelspec": {
   "display_name": "base",
   "language": "python",
   "name": "python3"
  },
  "language_info": {
   "codemirror_mode": {
    "name": "ipython",
    "version": 3
   },
   "file_extension": ".py",
   "mimetype": "text/x-python",
   "name": "python",
   "nbconvert_exporter": "python",
   "pygments_lexer": "ipython3",
   "version": "3.9.12"
  },
  "orig_nbformat": 4,
  "vscode": {
   "interpreter": {
    "hash": "88238fa9ce10266f0c8852a7c717f2c00aac0086428e92c35404220b3c041c57"
   }
  }
 },
 "nbformat": 4,
 "nbformat_minor": 2
}
