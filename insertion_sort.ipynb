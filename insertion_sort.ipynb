{
 "cells": [
  {
   "attachments": {},
   "cell_type": "markdown",
   "metadata": {},
   "source": [
    "#### INSERTION SORT"
   ]
  },
  {
   "cell_type": "code",
   "execution_count": null,
   "metadata": {},
   "outputs": [],
   "source": [
    "def insertion_sort(array):\n",
    "    for index in range(1, len(array)):  #start pass from the second element in the array, with an index=1\n",
    "        temp_value = array[index] #remove the value and leave empty\n",
    "        position = index - 1    #start comparison of elements to the left of removed element from index-1\n",
    "\n",
    "        while position >= 0:    #iterate all elements to the left of the gap until we reach left end of the array\n",
    "            if array[position] > temp_value:\n",
    "                array[position+1] = array[position] #shift elements to the right if they are greater than removed element\n",
    "                position = position - 1 #move one position to the left\n",
    "\n",
    "            else:\n",
    "                break   #if element to left of removed element is less or equal, stop moving elements to the right\n",
    "        \n",
    "        array[position+1] = temp_value\n",
    "\n",
    "    return array"
   ]
  }
 ],
 "metadata": {
  "kernelspec": {
   "display_name": "base",
   "language": "python",
   "name": "python3"
  },
  "language_info": {
   "name": "python",
   "version": "3.9.12"
  },
  "orig_nbformat": 4,
  "vscode": {
   "interpreter": {
    "hash": "88238fa9ce10266f0c8852a7c717f2c00aac0086428e92c35404220b3c041c57"
   }
  }
 },
 "nbformat": 4,
 "nbformat_minor": 2
}
