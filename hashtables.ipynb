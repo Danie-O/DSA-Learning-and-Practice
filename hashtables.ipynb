{
 "cells": [
  {
   "attachments": {},
   "cell_type": "markdown",
   "metadata": {},
   "source": [
    "#### Hash table syntax: \n",
    "hash_table = {\"key\": value, \"key\": value, \"key\": value, ......}"
   ]
  },
  {
   "cell_type": "code",
   "execution_count": 53,
   "metadata": {},
   "outputs": [
    {
     "name": "stdout",
     "output_type": "stream",
     "text": [
      "{'a': True, 'b': True, 'l': True, 'c': True, 'd': True, 'e': True, 'f': True}\n",
      "True\n"
     ]
    }
   ],
   "source": [
    "def is_subset(array1, array2):\n",
    "    if len(array1) > len(array2):\n",
    "        smaller_array = array2\n",
    "        larger_array = array1\n",
    "    else:\n",
    "        smaller_array = array1\n",
    "        larger_array = array2\n",
    "\n",
    "    hash_table = {item: True for item in larger_array}\n",
    "    print(hash_table)\n",
    "\n",
    "    for i in range(len(smaller_array)):\n",
    "        if smaller_array[i] not in hash_table.keys():\n",
    "            return False\n",
    "\n",
    "    return True\n",
    "\n",
    "arr2 = [\"a\", \"b\", \"l\", \"c\", \"d\", \"e\", \"f\"]\n",
    "arr1 = [\"b\", \"d\", \"f\", \"c\"]\n",
    "print(is_subset(arr1, arr2)) \n"
   ]
  },
  {
   "attachments": {},
   "cell_type": "markdown",
   "metadata": {},
   "source": [
    "#### Chapter 8 Exercises"
   ]
  },
  {
   "attachments": {},
   "cell_type": "markdown",
   "metadata": {},
   "source": [
    "#### *Q1.*"
   ]
  },
  {
   "cell_type": "code",
   "execution_count": 54,
   "metadata": {},
   "outputs": [
    {
     "name": "stdout",
     "output_type": "stream",
     "text": [
      "[2, 4, 7]\n"
     ]
    }
   ],
   "source": [
    "#QUESTION 1\n",
    "\"\"\"\n",
    "Write a function that returns the intersection of two arrays. The intersection is a third array that contains all values contained within the first two\n",
    "arrays. For example, the intersection of [1, 2, 3, 4, 5] and [0, 2, 4, 6, 8] is [2, 4].\n",
    "Your function should have a complexity of O(N). (If your programming\n",
    "language has a built-in way of doing this, don’t use it. The idea is to build\n",
    "the algorithm yourself.)\n",
    "\"\"\"\n",
    "\n",
    "\n",
    "def array_intersection(array1, array2):\n",
    "    # hash_table1 = {}\n",
    "    # hash_table2 = {}\n",
    "\n",
    "    hash_table1 = {number: True for number in array1}\n",
    "    hash_table2 = {number: True for number in array2}\n",
    "\n",
    "    return [i for i in hash_table1.keys() if i in hash_table2.keys()]\n",
    "\n",
    "\n",
    "arr1 = [1,2,2,3,4,5,7]\n",
    "arr2 = [0,2,4,7,6,8]\n",
    "\n",
    "print(array_intersection(arr1, arr2))   "
   ]
  },
  {
   "attachments": {},
   "cell_type": "markdown",
   "metadata": {},
   "source": [
    "#### *Q2*"
   ]
  },
  {
   "cell_type": "code",
   "execution_count": 2,
   "metadata": {},
   "outputs": [
    {
     "data": {
      "text/plain": [
       "'e'"
      ]
     },
     "execution_count": 2,
     "metadata": {},
     "output_type": "execute_result"
    }
   ],
   "source": [
    "# QUESTION 2\n",
    "\"\"\"\n",
    "Write a function that accepts an array of strings and returns the first\n",
    "duplicate value it finds. For example, if the array is [\"a\", \"b\", \"c\", \"d\", \"c\", \"e\",\n",
    "\"f\"], the function should return \"c\", since its duplicated within the array.\n",
    "(You can assume that theres one pair of duplicates within the array.)\n",
    "Make sure the function has an efficiency of O(N).\n",
    "\"\"\"\n",
    "\n",
    "def find_first_duplicate_with_set(strings):\n",
    "    seen = set()\n",
    "\n",
    "    for s in strings:\n",
    "        if s in seen:\n",
    "            return s\n",
    "        seen.add(s)\n",
    "        \n",
    "\n",
    "def find_first_duplicate_with_hashtable(strings):\n",
    "    seen = {}\n",
    "\n",
    "    for s in strings:\n",
    "        if s in seen:\n",
    "            return s\n",
    "        seen[s] = True\n",
    "\n",
    "array =  [\"a\", \"b\", \"c\", \"d\", \"c\", \"e\",\"f\",\"f\"]\n",
    "find_first_duplicate_with_hashtable(array)"
   ]
  },
  {
   "cell_type": "code",
   "execution_count": 56,
   "metadata": {},
   "outputs": [
    {
     "name": "stdout",
     "output_type": "stream",
     "text": [
      "Counter({'c': 2, 'a': 2, 'b': 1, 'd': 1, 'e': 1, 'f': 1})\n",
      "c\n"
     ]
    }
   ],
   "source": [
    "#Might not work in arrays with more than one duplicate pair\n",
    "# It might return string with maximum duplicates rather than first duplicate string value\n",
    "from collections import Counter\n",
    "def trial(strings):\n",
    "    hashtable = Counter(strings)\n",
    "    print(hashtable)\n",
    "    for key in hashtable.keys():\n",
    "        if hashtable[key] == 2:\n",
    "            return key\n",
    "\n",
    "print(trial([\"b\", \"c\", \"d\", \"c\", \"a\",\"a\",\"e\",\"f\"])) "
   ]
  },
  {
   "attachments": {},
   "cell_type": "markdown",
   "metadata": {},
   "source": [
    "#### *Q3*"
   ]
  },
  {
   "cell_type": "code",
   "execution_count": 1,
   "metadata": {},
   "outputs": [
    {
     "data": {
      "text/plain": [
       "'f'"
      ]
     },
     "execution_count": 1,
     "metadata": {},
     "output_type": "execute_result"
    }
   ],
   "source": [
    "\"\"\"\n",
    "Write a function that accepts a string that contains all the letters of the\n",
    "alphabet except one and returns the missing letter. For example, the string,\n",
    "\"the quick brown box jumps over a lazy dog\" contains all the letters of the alphabet\n",
    "except the letter, \"f\". The function should have a time complexity of O(N).\n",
    "\"\"\"\n",
    "\n",
    "def missing_alphabet(string):\n",
    "\n",
    "    alphabets = {}  #hashtable containing 26 letters of the alphabet\n",
    "    for letter in \"abcdefghijklmnopqrstuvwxyz\":\n",
    "        alphabets[letter] = True\n",
    "\n",
    "    seen = {}    #set to keep track of letters encountered in input string\n",
    "    for letter in string:\n",
    "        if letter not in seen:\n",
    "            seen[letter] = True\n",
    "    \n",
    "    for letter in alphabets:\n",
    "        if letter not in seen:\n",
    "            return letter\n",
    "\n",
    "#Time Complexity: 26(first loop) + N(second loop) + 26 = O(N), ignoring constants \n",
    "\n",
    "missing_alphabet(\"the quick brown box jumps over a lazy dog\")\n"
   ]
  },
  {
   "attachments": {},
   "cell_type": "markdown",
   "metadata": {},
   "source": [
    "### *Q4.*"
   ]
  },
  {
   "cell_type": "code",
   "execution_count": 32,
   "metadata": {},
   "outputs": [
    {
     "data": {
      "text/plain": [
       "'n'"
      ]
     },
     "execution_count": 32,
     "metadata": {},
     "output_type": "execute_result"
    }
   ],
   "source": [
    "\"\"\"\n",
    "Write a function that returns the first non-duplicated character in a string.\n",
    "For example, the string, \"minimum\" has two characters that only exist\n",
    "once—the \"n\" and the \"u\", so your function should return the \"n\", since it\n",
    "occurs first. The function should have an efficiency of O(N).\n",
    "\"\"\"\n",
    "\n",
    "def non_duplicates(string):\n",
    "    non_duplicates = {}\n",
    "    seen = {}\n",
    "\n",
    "    for letter in string:\n",
    "        if letter not in seen:\n",
    "            non_duplicates[letter] = True\n",
    "            seen[letter] = True\n",
    "\n",
    "        else:\n",
    "            non_duplicates[letter] = False\n",
    "\n",
    "    result = [i for i in list(non_duplicates.keys()) if non_duplicates[i] == True]\n",
    "    if len(result) >= 1:\n",
    "        return result[0]\n",
    "    return \"No non-duplicates found\"\n",
    "\n",
    "#Time complexity: N(length of input string) + N(length of non_duplicates hashtable, same as input array)\n",
    "#                  = O(2N) = O(N), ignoring constants\n",
    "\n",
    "non_duplicates(\"iminimump\")"
   ]
  }
 ],
 "metadata": {
  "kernelspec": {
   "display_name": "base",
   "language": "python",
   "name": "python3"
  },
  "language_info": {
   "codemirror_mode": {
    "name": "ipython",
    "version": 3
   },
   "file_extension": ".py",
   "mimetype": "text/x-python",
   "name": "python",
   "nbconvert_exporter": "python",
   "pygments_lexer": "ipython3",
   "version": "3.9.12"
  },
  "orig_nbformat": 4,
  "vscode": {
   "interpreter": {
    "hash": "88238fa9ce10266f0c8852a7c717f2c00aac0086428e92c35404220b3c041c57"
   }
  }
 },
 "nbformat": 4,
 "nbformat_minor": 2
}
