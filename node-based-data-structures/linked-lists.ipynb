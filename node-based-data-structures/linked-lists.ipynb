{
 "cells": [
  {
   "attachments": {},
   "cell_type": "markdown",
   "metadata": {},
   "source": [
    "Creating a linked list using a Node class and a LinkedList class(to indicate head of linked list)"
   ]
  },
  {
   "cell_type": "code",
   "execution_count": 4,
   "metadata": {},
   "outputs": [],
   "source": [
    "# define Node class\n",
    "class Node:\n",
    "    def __init__(self, value, next=None) -> None:\n",
    "        self.value = value\n",
    "        self.next = next\n",
    "\n",
    "\n",
    "# define LinkedList class\n",
    "class LinkedList:\n",
    "    def __init__(self, head: Node) -> None:\n",
    "        self.head = head\n",
    "        "
   ]
  },
  {
   "cell_type": "code",
   "execution_count": 9,
   "metadata": {},
   "outputs": [
    {
     "name": "stdout",
     "output_type": "stream",
     "text": [
      "2\n",
      "5\n"
     ]
    }
   ],
   "source": [
    "# creating a new linked list using the classes defined above\n",
    "\n",
    "node1 = Node(17)\n",
    "node2 = Node(5, node1)\n",
    "node3 = Node(2, node2)\n",
    "\n",
    "llist = LinkedList(node3)\n",
    "print(llist.head.value)\n",
    "print(llist.head.next.value)"
   ]
  },
  {
   "attachments": {},
   "cell_type": "markdown",
   "metadata": {},
   "source": [
    "Reading nodes in a linked list(by index)"
   ]
  },
  {
   "cell_type": "code",
   "execution_count": 13,
   "metadata": {},
   "outputs": [
    {
     "name": "stdout",
     "output_type": "stream",
     "text": [
      "2\n",
      "the third node in the list with an index of 2 is: 17\n",
      "the ninth node in the list with an index of 8 is: None\n"
     ]
    }
   ],
   "source": [
    "# define LinkedList class\n",
    "class LinkedList:\n",
    "    def __init__(self, head: Node) -> None:\n",
    "        self.head = head\n",
    "\n",
    "    # method for reading nodes by index\n",
    "    def read_node(self, index):\n",
    "        current_node = self.head\n",
    "        current_index = 0\n",
    "\n",
    "        while current_index < index:\n",
    "            current_node = current_node.next\n",
    "            current_index += 1\n",
    "\n",
    "            if not current_node:\n",
    "                return None\n",
    "        return current_node.value\n",
    "    \n",
    "\n",
    "node1 = Node(2)\n",
    "node2 = Node(5)\n",
    "node3 = Node(17)\n",
    "node4 = Node(43)\n",
    "\n",
    "node1.next = node2\n",
    "node2.next = node3\n",
    "node3.next = node4\n",
    "\n",
    "linked_list = LinkedList(node1)\n",
    "print(linked_list.head.value)\n",
    "\n",
    "idx = 2\n",
    "print(f\"the third node in the list with an index of {idx} is: {linked_list.read_node(idx)}\")\n",
    "\n",
    "idx = 8\n",
    "print(f\"the ninth node in the list with an index of {idx} is: {linked_list.read_node(idx)}\")"
   ]
  }
 ],
 "metadata": {
  "kernelspec": {
   "display_name": "Python 3",
   "language": "python",
   "name": "python3"
  },
  "language_info": {
   "codemirror_mode": {
    "name": "ipython",
    "version": 3
   },
   "file_extension": ".py",
   "mimetype": "text/x-python",
   "name": "python",
   "nbconvert_exporter": "python",
   "pygments_lexer": "ipython3",
   "version": "3.10.0"
  },
  "orig_nbformat": 4
 },
 "nbformat": 4,
 "nbformat_minor": 2
}
