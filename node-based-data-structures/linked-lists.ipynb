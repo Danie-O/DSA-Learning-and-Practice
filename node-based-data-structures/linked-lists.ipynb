{
 "cells": [
  {
   "attachments": {},
   "cell_type": "markdown",
   "metadata": {},
   "source": [
    "Creating a linked list using a Node class and a LinkedList class(to indicate head of linked list)"
   ]
  },
  {
   "cell_type": "code",
   "execution_count": 4,
   "metadata": {},
   "outputs": [],
   "source": [
    "# define Node class\n",
    "class Node:\n",
    "    def __init__(self, value, next=None) -> None:\n",
    "        self.value = value\n",
    "        self.next = next\n",
    "\n",
    "\n",
    "# define LinkedList class\n",
    "class LinkedList:\n",
    "    def __init__(self, head: Node) -> None:\n",
    "        self.head = head\n",
    "        "
   ]
  },
  {
   "cell_type": "code",
   "execution_count": 9,
   "metadata": {},
   "outputs": [
    {
     "name": "stdout",
     "output_type": "stream",
     "text": [
      "2\n",
      "5\n"
     ]
    }
   ],
   "source": [
    "# creating a new linked list using the classes defined above\n",
    "\n",
    "node1 = Node(17)\n",
    "node2 = Node(5, node1)\n",
    "node3 = Node(2, node2)\n",
    "\n",
    "llist = LinkedList(node3)\n",
    "print(llist.head.value)\n",
    "print(llist.head.next.value)"
   ]
  }
 ],
 "metadata": {
  "kernelspec": {
   "display_name": "Python 3",
   "language": "python",
   "name": "python3"
  },
  "language_info": {
   "codemirror_mode": {
    "name": "ipython",
    "version": 3
   },
   "file_extension": ".py",
   "mimetype": "text/x-python",
   "name": "python",
   "nbconvert_exporter": "python",
   "pygments_lexer": "ipython3",
   "version": "3.10.0"
  },
  "orig_nbformat": 4
 },
 "nbformat": 4,
 "nbformat_minor": 2
}
