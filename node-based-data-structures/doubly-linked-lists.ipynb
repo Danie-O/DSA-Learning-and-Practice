{
 "cells": [
  {
   "attachments": {},
   "cell_type": "markdown",
   "metadata": {},
   "source": [
    "### DOUBLY LINKED LISTS"
   ]
  },
  {
   "attachments": {},
   "cell_type": "markdown",
   "metadata": {},
   "source": [
    "Creating a doubly linked list."
   ]
  },
  {
   "cell_type": "code",
   "execution_count": 1,
   "metadata": {},
   "outputs": [],
   "source": [
    "class Node:\n",
    "    def __init__(self, value, previous=None, next=None) -> None:\n",
    "        self.value = value\n",
    "        self.previous = previous\n",
    "        self.next = next\n",
    "\n",
    "class DoublyLinkedList:\n",
    "    def __init__(self, head=None, tail=None) -> None:\n",
    "        self.head = head\n",
    "        self.tail = tail\n",
    "\n",
    "    # Method to insert a node at the end of an empty or non-empty LinkedList\n",
    "    def insert_at_end(self, value):\n",
    "        new_node = Node(value)\n",
    "\n",
    "        # If linked list is empty\n",
    "        if not self.head:\n",
    "            self.head = new_node\n",
    "            self.tail = new_node\n",
    "            # return \"Insertion complete\"\n",
    "        # If there is at least one node in the Linked List\n",
    "        else:\n",
    "            new_node.previous = self.tail   # let new_node previous pointer point to the existing tail of the list\n",
    "            self.tail.next = new_node       # update the next pointer of existing tail from 'None' to the new_node\n",
    "            self.tail = new_node            # the newly inserted node becomes the last/ tail node\n"
   ]
  },
  {
   "attachments": {},
   "cell_type": "markdown",
   "metadata": {},
   "source": [
    "##### Queues as Doubly Linked Lists.\n",
    "- Recall that we can read, insert and delete from a doubly linked list in O(1) time.\n",
    "\n",
    "- Due to the fact that for a Doubly Linked List, we can insert at the end in O(1) time, and delete from the front O(1) time, we can use it to efficiently implement a QUEUE. "
   ]
  },
  {
   "cell_type": "code",
   "execution_count": null,
   "metadata": {},
   "outputs": [],
   "source": [
    "class Node:\n",
    "    def __init__(self, value, previous=None, next=None) -> None:\n",
    "        self.value = value\n",
    "        self.previous = previous\n",
    "        self.next = next\n",
    "\n",
    "class DoublyLinkedList:\n",
    "    def __init__(self, head=None, tail=None) -> None:\n",
    "        self.head = head\n",
    "        self.tail = tail\n",
    "\n",
    "    # Insert a node at end of linked list(ENQUEUE)\n",
    "    def insert_at_end(self, value):\n",
    "        new_node = Node(value)\n",
    "\n",
    "        # If linked list is empty\n",
    "        if not self.head:\n",
    "            self.head = new_node\n",
    "            self.tail = new_node\n",
    "            # return \"Insertion complete\"\n",
    "        # If there is at least one node in the Linked List\n",
    "        else:\n",
    "            new_node.previous = self.tail   # let new_node previous pointer point to the existing tail of the list\n",
    "            self.tail.next = new_node       # update the next pointer of existing tail from 'None' to the new_node\n",
    "            self.tail = new_node            # the newly inserted node becomes the last/ tail node\n",
    "\n",
    "    # Delete a node from the front of the linked list and return the deleted node (DEQUEUE)\n",
    "    def delete_from_front(self, value):\n",
    "        deleted_node = self.head            # store current head value before updating self.head\n",
    "        self.head = self.head.next          # update self.head to point to next node of current head node\n",
    "        return deleted_node\n",
    "\n",
    "\n",
    "class Queue:\n",
    "    def __init__(self) -> None:\n",
    "        self.queue = DoublyLinkedList()\n",
    "        \n",
    "    def enqueue(self, value):\n",
    "        self.queue.insert_at_end(value)\n",
    "\n",
    "    def dequeue(self):\n",
    "        # check that queue is not empty before dequeueing\n",
    "        if self.queue:\n",
    "            deleted_node = self.queue.delete_from_front()\n",
    "            return deleted_node\n",
    "    \n",
    "    # method to read node at the front of the queue (head node)\n",
    "    def read(self):\n",
    "        if self.queue.head:\n",
    "            return self.queue.head.value\n",
    "        # if queue is empty, there is no head\n",
    "        return None\n"
   ]
  }
 ],
 "metadata": {
  "kernelspec": {
   "display_name": "Python 3",
   "language": "python",
   "name": "python3"
  },
  "language_info": {
   "codemirror_mode": {
    "name": "ipython",
    "version": 3
   },
   "file_extension": ".py",
   "mimetype": "text/x-python",
   "name": "python",
   "nbconvert_exporter": "python",
   "pygments_lexer": "ipython3",
   "version": "3.10.0"
  },
  "orig_nbformat": 4
 },
 "nbformat": 4,
 "nbformat_minor": 2
}
