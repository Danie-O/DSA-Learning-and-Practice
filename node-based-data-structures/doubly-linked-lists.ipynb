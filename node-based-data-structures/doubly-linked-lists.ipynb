{
 "cells": [
  {
   "attachments": {},
   "cell_type": "markdown",
   "metadata": {},
   "source": [
    "### DOUBLY LINKED LISTS"
   ]
  },
  {
   "attachments": {},
   "cell_type": "markdown",
   "metadata": {},
   "source": [
    "Creating a doubly linked list."
   ]
  },
  {
   "cell_type": "code",
   "execution_count": null,
   "metadata": {},
   "outputs": [],
   "source": [
    "class Node:\n",
    "    def __init__(self, value, previous=None, next=None) -> None:\n",
    "        self.value = value\n",
    "        self.previous = previous\n",
    "        self.next = next\n",
    "\n",
    "class DoublyLinkedList:\n",
    "    def __init__(self, head=None, tail=None) -> None:\n",
    "        self.head = head\n",
    "        self.tail = tail\n",
    "\n",
    "    # Method to insert a node at the end of an empty or non-empty LinkedList\n",
    "    def insert_at_end(self, value):\n",
    "        new_node = Node(value)\n",
    "\n",
    "        # If linked list is empty\n",
    "        if not self.head:\n",
    "            self.head = new_node\n",
    "            self.tail = new_node\n",
    "            # return \"Insertion complete\"\n",
    "        else:\n",
    "            new_node.previous = self.tail   # let new_node previous pointer point to the existing tail of the list\n",
    "            self.tail.next = new_node       # update the next pointer of existing tail from 'None' to the new_node\n",
    "            self.tail = new_node            # the newly inserted node becomes the last/ tail node\n",
    "\n",
    "\n"
   ]
  }
 ],
 "metadata": {
  "language_info": {
   "name": "python"
  },
  "orig_nbformat": 4
 },
 "nbformat": 4,
 "nbformat_minor": 2
}
