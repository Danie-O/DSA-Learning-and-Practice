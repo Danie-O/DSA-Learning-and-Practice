{
 "cells": [
  {
   "attachments": {},
   "cell_type": "markdown",
   "metadata": {},
   "source": [
    "#### BUBBLE SORT"
   ]
  },
  {
   "cell_type": "code",
   "execution_count": 4,
   "metadata": {},
   "outputs": [],
   "source": [
    "def bubble_sort(array):\n",
    "    unsorted_until_index = len(array) - 1\n",
    "    sorted = False\n",
    "\n",
    "    while not sorted:\n",
    "        sorted = True\n",
    "\n",
    "        for i in range(unsorted_until_index):\n",
    "            if array[i] > array[i+1]:\n",
    "                array[i], array[i+1] = array[i+1], array[i]\n",
    "                sorted = False\n",
    "        unsorted_until_index -= 1\n",
    "\n",
    "    return array\n",
    "\n",
    "            "
   ]
  },
  {
   "cell_type": "code",
   "execution_count": 5,
   "metadata": {},
   "outputs": [
    {
     "name": "stdout",
     "output_type": "stream",
     "text": [
      "[10, 15, 25, 35, 45, 55, 65]\n"
     ]
    }
   ],
   "source": [
    "print(bubble_sort([65, 55, 45, 35, 25, 15, 10]))"
   ]
  },
  {
   "attachments": {},
   "cell_type": "markdown",
   "metadata": {},
   "source": [
    "#### SELECTION SORT"
   ]
  },
  {
   "cell_type": "code",
   "execution_count": 15,
   "metadata": {},
   "outputs": [],
   "source": [
    "def selection_sort(array):\n",
    "    for i in range(len(array) - 1):\n",
    "        lowest_value_index = i\n",
    "        \n",
    "        for j in range(i+1, len(array)):\n",
    "            if array[j] < array[lowest_value_index]:\n",
    "                lowest_value_index = j\n",
    "        \n",
    "        if lowest_value_index != i:\n",
    "            temp = array[i]\n",
    "            array[i] = array[lowest_value_index]\n",
    "            array[lowest_value_index] = temp\n",
    "    \n",
    "    return array"
   ]
  },
  {
   "cell_type": "code",
   "execution_count": 16,
   "metadata": {},
   "outputs": [
    {
     "name": "stdout",
     "output_type": "stream",
     "text": [
      "[0, 1, 2, 3, 4, 7]\n"
     ]
    }
   ],
   "source": [
    "input_array = [4, 2, 7, 1, 3, 0]\n",
    "\n",
    "print(selection_sort(input_array))"
   ]
  }
 ],
 "metadata": {
  "kernelspec": {
   "display_name": "base",
   "language": "python",
   "name": "python3"
  },
  "language_info": {
   "codemirror_mode": {
    "name": "ipython",
    "version": 3
   },
   "file_extension": ".py",
   "mimetype": "text/x-python",
   "name": "python",
   "nbconvert_exporter": "python",
   "pygments_lexer": "ipython3",
   "version": "3.9.12"
  },
  "orig_nbformat": 4,
  "vscode": {
   "interpreter": {
    "hash": "88238fa9ce10266f0c8852a7c717f2c00aac0086428e92c35404220b3c041c57"
   }
  }
 },
 "nbformat": 4,
 "nbformat_minor": 2
}
