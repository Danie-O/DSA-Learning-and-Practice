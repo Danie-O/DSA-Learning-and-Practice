{
 "cells": [
  {
   "attachments": {},
   "cell_type": "markdown",
   "metadata": {},
   "source": [
    "#### PALINDROME CHECKER"
   ]
  },
  {
   "cell_type": "code",
   "execution_count": 1,
   "metadata": {},
   "outputs": [
    {
     "name": "stdout",
     "output_type": "stream",
     "text": [
      "True\n",
      "False\n"
     ]
    }
   ],
   "source": [
    "def palindrome_checker(string):\n",
    "    #string = string.lower()\n",
    "    left_index = 0\n",
    "    right_index = len(string) - 1\n",
    "\n",
    "    while left_index <= len(string) / 2:\n",
    "        if string[left_index] != string[right_index]:\n",
    "            return False\n",
    "        \n",
    "        left_index += 1\n",
    "        right_index -= 1\n",
    "\n",
    "    return True\n",
    "\n",
    "print(palindrome_checker(\"racecar\"))\n",
    "print(palindrome_checker(\"KAyak\"))"
   ]
  },
  {
   "attachments": {},
   "cell_type": "markdown",
   "metadata": {},
   "source": [
    "#### TWO NUMBER PRODUCTS"
   ]
  },
  {
   "cell_type": "code",
   "execution_count": 2,
   "metadata": {},
   "outputs": [
    {
     "name": "stdout",
     "output_type": "stream",
     "text": [
      "[2, 3, 4, 5, 6, 8, 10, 12, 15, 20]\n"
     ]
    }
   ],
   "source": [
    "def two_number_products(array):\n",
    "    products  = []\n",
    "\n",
    "    for i in range(len(array)-1):\n",
    "        for j in range(i+1, len(array)):\n",
    "            products.append(array[i] * array[j])\n",
    "\n",
    "    return products\n",
    "\n",
    "input_array = [1, 2, 3, 4, 5]\n",
    "print(two_number_products(input_array))"
   ]
  }
 ],
 "metadata": {
  "kernelspec": {
   "display_name": "base",
   "language": "python",
   "name": "python3"
  },
  "language_info": {
   "codemirror_mode": {
    "name": "ipython",
    "version": 3
   },
   "file_extension": ".py",
   "mimetype": "text/x-python",
   "name": "python",
   "nbconvert_exporter": "python",
   "pygments_lexer": "ipython3",
   "version": "3.9.12"
  },
  "orig_nbformat": 4,
  "vscode": {
   "interpreter": {
    "hash": "88238fa9ce10266f0c8852a7c717f2c00aac0086428e92c35404220b3c041c57"
   }
  }
 },
 "nbformat": 4,
 "nbformat_minor": 2
}
