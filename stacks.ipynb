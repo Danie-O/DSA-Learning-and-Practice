{
 "cells": [
  {
   "attachments": {},
   "cell_type": "markdown",
   "metadata": {},
   "source": [
    "### STACKS "
   ]
  },
  {
   "cell_type": "code",
   "execution_count": 1,
   "metadata": {},
   "outputs": [],
   "source": [
    "class Stack():\n",
    "    def __init__(self, data) -> None:\n",
    "        self.data = []\n",
    "\n",
    "    def push(self, element):\n",
    "        self.data.append(element)\n",
    "        \n",
    "\n",
    "    def pop(self):\n",
    "        if not self.is_empty():\n",
    "            return self.data.pop()\n",
    "        \n",
    "\n",
    "    def peek(self):\n",
    "        if not self.is_empty():\n",
    "            return self.data[-1]\n",
    "        \n",
    "    \n",
    "    def is_empty(self):\n",
    "        return len(self.data) == 0"
   ]
  },
  {
   "cell_type": "code",
   "execution_count": 2,
   "metadata": {},
   "outputs": [
    {
     "name": "stdout",
     "output_type": "stream",
     "text": [
      "True\n"
     ]
    }
   ],
   "source": [
    "# STACK-BASED CODE LINTER\n",
    "\n",
    "class Linter():\n",
    "    def __init__(self) -> None:\n",
    "        self.stack = []\n",
    "\n",
    "    def lint(self, text):\n",
    "        #start a loop which reads each character in our input text\n",
    "        for char in text:\n",
    "            #check if character is an opening brace\n",
    "            if self.is_opening_brace(char):\n",
    "                self.stack.append(char)\n",
    "\n",
    "            #check if character is a closing brace\n",
    "            elif self.is_closing_brace(char):\n",
    "                #pop from stack\n",
    "                try:\n",
    "                    last_opening_brace = self.stack.pop()\n",
    "                except IndexError:  \n",
    "                    #an IndexError means that the stack is empty, and an opening brace is missing for the closing brace we just checked\n",
    "                    return f\"{char} does not have an opening brace\"\n",
    "                if self.is_not_a_match(last_opening_brace, char):\n",
    "                    return f\"{char} has mismatched opening brace\"\n",
    "\n",
    "        #If we get to the end of the line and the stack is not empty\n",
    "        if self.stack:\n",
    "            return f\"{self.stack[-1]} does not have closing brace\"\n",
    "\n",
    "        return True\n",
    "\n",
    "\n",
    "    def is_opening_brace(self, char):\n",
    "        return char in [\"(\", \"[\", \"{\"]\n",
    "\n",
    "    \n",
    "    def is_closing_brace(self, char):\n",
    "        return char in [\")\", \"]\", \"}\"]\n",
    "        \n",
    "\n",
    "    def is_not_a_match(self, opening_brace, closing_brace):\n",
    "        braces = {\"(\": \")\", \"[\": \"]\", \"{\": \"}\"}\n",
    "        return closing_brace != braces[opening_brace]\n",
    "\n",
    "\n",
    "trial = Linter()\n",
    "result = trial.lint(\"(var x = {y: [1, 2, 3]})\")\n",
    "print(result)"
   ]
  }
 ],
 "metadata": {
  "kernelspec": {
   "display_name": "base",
   "language": "python",
   "name": "python3"
  },
  "language_info": {
   "codemirror_mode": {
    "name": "ipython",
    "version": 3
   },
   "file_extension": ".py",
   "mimetype": "text/x-python",
   "name": "python",
   "nbconvert_exporter": "python",
   "pygments_lexer": "ipython3",
   "version": "3.9.12"
  },
  "orig_nbformat": 4,
  "vscode": {
   "interpreter": {
    "hash": "88238fa9ce10266f0c8852a7c717f2c00aac0086428e92c35404220b3c041c57"
   }
  }
 },
 "nbformat": 4,
 "nbformat_minor": 2
}
